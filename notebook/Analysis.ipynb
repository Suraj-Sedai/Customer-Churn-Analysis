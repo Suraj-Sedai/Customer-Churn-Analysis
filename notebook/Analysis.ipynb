{
 "cells": [
  {
   "cell_type": "markdown",
   "id": "b993fc8f-1544-47a2-bcdf-7b55fe0fbff5",
   "metadata": {},
   "source": [
    "<h1>Bank Customer Churn Analysis</h1>"
   ]
  },
  {
   "cell_type": "markdown",
   "id": "e7e3b426-9495-4079-8ca6-881bade6ec2b",
   "metadata": {},
   "source": [
    "<h4>Importing the dataset</h4>"
   ]
  },
  {
   "cell_type": "code",
   "execution_count": 117,
   "id": "fbe60aba-5e6f-42a3-a7db-d6952d2a1018",
   "metadata": {},
   "outputs": [
    {
     "data": {
      "text/html": [
       "<div>\n",
       "<style scoped>\n",
       "    .dataframe tbody tr th:only-of-type {\n",
       "        vertical-align: middle;\n",
       "    }\n",
       "\n",
       "    .dataframe tbody tr th {\n",
       "        vertical-align: top;\n",
       "    }\n",
       "\n",
       "    .dataframe thead th {\n",
       "        text-align: right;\n",
       "    }\n",
       "</style>\n",
       "<table border=\"1\" class=\"dataframe\">\n",
       "  <thead>\n",
       "    <tr style=\"text-align: right;\">\n",
       "      <th></th>\n",
       "      <th>RowNumber</th>\n",
       "      <th>CustomerId</th>\n",
       "      <th>Surname</th>\n",
       "      <th>CreditScore</th>\n",
       "      <th>Geography</th>\n",
       "      <th>Gender</th>\n",
       "      <th>Age</th>\n",
       "      <th>Tenure</th>\n",
       "      <th>Balance</th>\n",
       "      <th>NumOfProducts</th>\n",
       "      <th>HasCrCard</th>\n",
       "      <th>IsActiveMember</th>\n",
       "      <th>EstimatedSalary</th>\n",
       "      <th>Exited</th>\n",
       "      <th>Complain</th>\n",
       "      <th>Satisfaction Score</th>\n",
       "      <th>Card Type</th>\n",
       "      <th>Point Earned</th>\n",
       "    </tr>\n",
       "  </thead>\n",
       "  <tbody>\n",
       "    <tr>\n",
       "      <th>0</th>\n",
       "      <td>1</td>\n",
       "      <td>15634602</td>\n",
       "      <td>Hargrave</td>\n",
       "      <td>619</td>\n",
       "      <td>France</td>\n",
       "      <td>Female</td>\n",
       "      <td>42</td>\n",
       "      <td>2</td>\n",
       "      <td>0.00</td>\n",
       "      <td>1</td>\n",
       "      <td>1</td>\n",
       "      <td>1</td>\n",
       "      <td>101348.88</td>\n",
       "      <td>1</td>\n",
       "      <td>1</td>\n",
       "      <td>2</td>\n",
       "      <td>DIAMOND</td>\n",
       "      <td>464</td>\n",
       "    </tr>\n",
       "    <tr>\n",
       "      <th>1</th>\n",
       "      <td>2</td>\n",
       "      <td>15647311</td>\n",
       "      <td>Hill</td>\n",
       "      <td>608</td>\n",
       "      <td>Spain</td>\n",
       "      <td>Female</td>\n",
       "      <td>41</td>\n",
       "      <td>1</td>\n",
       "      <td>83807.86</td>\n",
       "      <td>1</td>\n",
       "      <td>0</td>\n",
       "      <td>1</td>\n",
       "      <td>112542.58</td>\n",
       "      <td>0</td>\n",
       "      <td>1</td>\n",
       "      <td>3</td>\n",
       "      <td>DIAMOND</td>\n",
       "      <td>456</td>\n",
       "    </tr>\n",
       "    <tr>\n",
       "      <th>2</th>\n",
       "      <td>3</td>\n",
       "      <td>15619304</td>\n",
       "      <td>Onio</td>\n",
       "      <td>502</td>\n",
       "      <td>France</td>\n",
       "      <td>Female</td>\n",
       "      <td>42</td>\n",
       "      <td>8</td>\n",
       "      <td>159660.80</td>\n",
       "      <td>3</td>\n",
       "      <td>1</td>\n",
       "      <td>0</td>\n",
       "      <td>113931.57</td>\n",
       "      <td>1</td>\n",
       "      <td>1</td>\n",
       "      <td>3</td>\n",
       "      <td>DIAMOND</td>\n",
       "      <td>377</td>\n",
       "    </tr>\n",
       "    <tr>\n",
       "      <th>3</th>\n",
       "      <td>4</td>\n",
       "      <td>15701354</td>\n",
       "      <td>Boni</td>\n",
       "      <td>699</td>\n",
       "      <td>France</td>\n",
       "      <td>Female</td>\n",
       "      <td>39</td>\n",
       "      <td>1</td>\n",
       "      <td>0.00</td>\n",
       "      <td>2</td>\n",
       "      <td>0</td>\n",
       "      <td>0</td>\n",
       "      <td>93826.63</td>\n",
       "      <td>0</td>\n",
       "      <td>0</td>\n",
       "      <td>5</td>\n",
       "      <td>GOLD</td>\n",
       "      <td>350</td>\n",
       "    </tr>\n",
       "    <tr>\n",
       "      <th>4</th>\n",
       "      <td>5</td>\n",
       "      <td>15737888</td>\n",
       "      <td>Mitchell</td>\n",
       "      <td>850</td>\n",
       "      <td>Spain</td>\n",
       "      <td>Female</td>\n",
       "      <td>43</td>\n",
       "      <td>2</td>\n",
       "      <td>125510.82</td>\n",
       "      <td>1</td>\n",
       "      <td>1</td>\n",
       "      <td>1</td>\n",
       "      <td>79084.10</td>\n",
       "      <td>0</td>\n",
       "      <td>0</td>\n",
       "      <td>5</td>\n",
       "      <td>GOLD</td>\n",
       "      <td>425</td>\n",
       "    </tr>\n",
       "  </tbody>\n",
       "</table>\n",
       "</div>"
      ],
      "text/plain": [
       "   RowNumber  CustomerId   Surname  CreditScore Geography  Gender  Age  \\\n",
       "0          1    15634602  Hargrave          619    France  Female   42   \n",
       "1          2    15647311      Hill          608     Spain  Female   41   \n",
       "2          3    15619304      Onio          502    France  Female   42   \n",
       "3          4    15701354      Boni          699    France  Female   39   \n",
       "4          5    15737888  Mitchell          850     Spain  Female   43   \n",
       "\n",
       "   Tenure    Balance  NumOfProducts  HasCrCard  IsActiveMember  \\\n",
       "0       2       0.00              1          1               1   \n",
       "1       1   83807.86              1          0               1   \n",
       "2       8  159660.80              3          1               0   \n",
       "3       1       0.00              2          0               0   \n",
       "4       2  125510.82              1          1               1   \n",
       "\n",
       "   EstimatedSalary  Exited  Complain  Satisfaction Score Card Type  \\\n",
       "0        101348.88       1         1                   2   DIAMOND   \n",
       "1        112542.58       0         1                   3   DIAMOND   \n",
       "2        113931.57       1         1                   3   DIAMOND   \n",
       "3         93826.63       0         0                   5      GOLD   \n",
       "4         79084.10       0         0                   5      GOLD   \n",
       "\n",
       "   Point Earned  \n",
       "0           464  \n",
       "1           456  \n",
       "2           377  \n",
       "3           350  \n",
       "4           425  "
      ]
     },
     "execution_count": 117,
     "metadata": {},
     "output_type": "execute_result"
    }
   ],
   "source": [
    "import pandas as pd\n",
    "import numpy as np\n",
    "\n",
    "df = pd.read_csv('../data/Customer-Churn-Records.csv')\n",
    "\n",
    "df.head()"
   ]
  },
  {
   "cell_type": "markdown",
   "id": "be56f6a8",
   "metadata": {},
   "source": [
    "<h6>Checking for missing values & preparing dataset</h6>"
   ]
  },
  {
   "cell_type": "code",
   "execution_count": 118,
   "id": "2c2bf97d",
   "metadata": {},
   "outputs": [
    {
     "data": {
      "text/plain": [
       "RowNumber             0\n",
       "CustomerId            0\n",
       "Surname               0\n",
       "CreditScore           0\n",
       "Geography             0\n",
       "Gender                0\n",
       "Age                   0\n",
       "Tenure                0\n",
       "Balance               0\n",
       "NumOfProducts         0\n",
       "HasCrCard             0\n",
       "IsActiveMember        0\n",
       "EstimatedSalary       0\n",
       "Exited                0\n",
       "Complain              0\n",
       "Satisfaction Score    0\n",
       "Card Type             0\n",
       "Point Earned          0\n",
       "dtype: int64"
      ]
     },
     "execution_count": 118,
     "metadata": {},
     "output_type": "execute_result"
    }
   ],
   "source": [
    "df.isnull().sum()   # check for missing values\n",
    "\n",
    "#df.describe()   # summary statistics"
   ]
  },
  {
   "cell_type": "code",
   "execution_count": 119,
   "id": "76063a85",
   "metadata": {},
   "outputs": [],
   "source": [
    "df = df.dropna()   # drop missing values\n",
    "\n",
    "##or fill missing values with mean\n",
    "#df = df.fillna(df.mean())"
   ]
  },
  {
   "cell_type": "markdown",
   "id": "b8aa0a2a",
   "metadata": {},
   "source": [
    "<h5>Revoming unnecessary columns</h5>"
   ]
  },
  {
   "cell_type": "code",
   "execution_count": 120,
   "id": "764636fa",
   "metadata": {},
   "outputs": [
    {
     "name": "stdout",
     "output_type": "stream",
     "text": [
      "   CreditScore Geography  Gender       Age    Tenure   Balance  NumOfProducts  \\\n",
      "0    -0.326221    France  Female  0.293517 -1.041760 -1.225848      -0.911583   \n",
      "1    -0.440036     Spain  Female  0.198164 -1.387538  0.117350      -0.911583   \n",
      "2    -1.536794    France  Female  0.293517  1.032908  1.333053       2.527057   \n",
      "3     0.501521    France  Female  0.007457 -1.387538 -1.225848       0.807737   \n",
      "4     2.063884     Spain  Female  0.388871 -1.041760  0.785728      -0.911583   \n",
      "\n",
      "   HasCrCard  IsActiveMember  EstimatedSalary    Exited  Complain  \\\n",
      "0   0.646092        0.970243         0.021886  1.976555  1.972908   \n",
      "1  -1.547768        0.970243         0.216534 -0.505931  1.972908   \n",
      "2   0.646092       -1.030670         0.240687  1.976555  1.972908   \n",
      "3  -1.547768       -1.030670        -0.108918 -0.505931 -0.506866   \n",
      "4   0.646092        0.970243        -0.365276 -0.505931 -0.506866   \n",
      "\n",
      "   Satisfaction Score Card Type  Point Earned  \n",
      "0           -0.721130   DIAMOND     -0.630839  \n",
      "1           -0.009816   DIAMOND     -0.666251  \n",
      "2           -0.009816   DIAMOND     -1.015942  \n",
      "3            1.412812      GOLD     -1.135457  \n",
      "4            1.412812      GOLD     -0.803472  \n",
      "   CreditScore       Age    Tenure   Balance  NumOfProducts  HasCrCard  \\\n",
      "0    -0.326221  0.293517 -1.041760 -1.225848      -0.911583   0.646092   \n",
      "1    -0.440036  0.198164 -1.387538  0.117350      -0.911583  -1.547768   \n",
      "2    -1.536794  0.293517  1.032908  1.333053       2.527057   0.646092   \n",
      "3     0.501521  0.007457 -1.387538 -1.225848       0.807737  -1.547768   \n",
      "4     2.063884  0.388871 -1.041760  0.785728      -0.911583   0.646092   \n",
      "\n",
      "   IsActiveMember  EstimatedSalary    Exited  Complain  Satisfaction Score  \\\n",
      "0        0.970243         0.021886  1.976555  1.972908           -0.721130   \n",
      "1        0.970243         0.216534 -0.505931  1.972908           -0.009816   \n",
      "2       -1.030670         0.240687  1.976555  1.972908           -0.009816   \n",
      "3       -1.030670        -0.108918 -0.505931 -0.506866            1.412812   \n",
      "4        0.970243        -0.365276 -0.505931 -0.506866            1.412812   \n",
      "\n",
      "   Point Earned  \n",
      "0     -0.630839  \n",
      "1     -0.666251  \n",
      "2     -1.015942  \n",
      "3     -1.135457  \n",
      "4     -0.803472  \n"
     ]
    }
   ],
   "source": [
    "from sklearn.preprocessing import StandardScaler\n",
    "\n",
    "# Load dataset (assuming df is already loaded)\n",
    "df = df.drop(['RowNumber', 'CustomerId', 'Surname'], axis=1)  # Drop irrelevant columns\n",
    "\n",
    "# Select numerical columns\n",
    "num_cols = df.select_dtypes(include=['float64', 'int64']).columns   \n",
    "\n",
    "# Initialize StandardScaler\n",
    "scaler = StandardScaler()\n",
    "\n",
    "# Fit and transform only numerical columns\n",
    "df[num_cols] = scaler.fit_transform(df[num_cols])\n",
    "\n",
    "# Display the first few rows after scaling\n",
    "print(df.head())\n",
    "\n",
    "#displaying only numerical columns\n",
    "print(df[num_cols].head())"
   ]
  },
  {
   "cell_type": "markdown",
   "id": "443d5820",
   "metadata": {},
   "source": [
    "<h4>Split the dataset</h4>"
   ]
  },
  {
   "cell_type": "code",
   "execution_count": 121,
   "id": "b3cce2cc",
   "metadata": {},
   "outputs": [
    {
     "name": "stdout",
     "output_type": "stream",
     "text": [
      "(8000, 11) (2000, 11) (8000,) (2000,)\n"
     ]
    }
   ],
   "source": [
    "#split the dataset\n",
    "\n",
    "from sklearn.model_selection import train_test_split\n",
    "\n",
    "# Define Features (X) and Target (y)\n",
    "X = df[num_cols].drop('Exited', axis=1)   #drop the target column exited\n",
    "y = df[num_cols]['Exited']        #target column\n",
    "\n",
    "# Split the dataset into training and testing sets (80% training, 20% testing) \n",
    "x_train, x_test, y_train, y_test = train_test_split(X,y, test_size=0.2, random_state=0) \n",
    "y_test = np.round(y_test)  # Round values to 0/1 for classification\n",
    "y_train = np.round(y_train)  # Convert to 0/1 if binary classification\n",
    "\n",
    "print(x_train.shape, x_test.shape, y_train.shape, y_test.shape)\n"
   ]
  },
  {
   "cell_type": "markdown",
   "id": "07c689f6",
   "metadata": {},
   "source": [
    "<h4>Train Classification Using Different Models</h4>"
   ]
  },
  {
   "cell_type": "code",
   "execution_count": 122,
   "id": "dede3ff4",
   "metadata": {},
   "outputs": [
    {
     "name": "stdout",
     "output_type": "stream",
     "text": [
      "Accuracy: 99.95%\n"
     ]
    }
   ],
   "source": [
    "#logistic regression\n",
    "from sklearn.linear_model import LogisticRegression\n",
    "\n",
    "#using logistic regression\n",
    "log_reg = LogisticRegression()\n",
    "\n",
    "# Fit the model\n",
    "log_reg.fit(x_train, y_train)\n",
    "\n",
    "y_pred = log_reg.predict(x_test)\n",
    "\n",
    "# Accuracy\n",
    "accuracy = log_reg.score(x_test, y_test)\n",
    "print(f'Accuracy: {accuracy*100:.2f}%')\n",
    "\n",
    "# # Confusion Matrix\n",
    "# from sklearn.metrics import confusion_matrix\n",
    "# confusion_matrix(y_test, y_pred)\n",
    "# # print(confusion_matrix(y_test, y_pred))\n"
   ]
  },
  {
   "cell_type": "markdown",
   "id": "3eedded8",
   "metadata": {},
   "source": [
    "<h4>Evaluate Model</h4>"
   ]
  },
  {
   "cell_type": "code",
   "execution_count": 123,
   "id": "12a99eb7",
   "metadata": {},
   "outputs": [
    {
     "name": "stdout",
     "output_type": "stream",
     "text": [
      "[-1.  2. -1. -1. -1.]\n",
      "test values\n",
      "9394   -1.0\n",
      "898     2.0\n",
      "2398   -1.0\n",
      "5906   -1.0\n",
      "2343   -1.0\n",
      "Name: Exited, dtype: float64\n",
      "confusion matrix:\n",
      "\n",
      "[[1595    0]\n",
      " [   1  404]]\n",
      "\n",
      "classification report:\n",
      "\n",
      "              precision    recall  f1-score   support\n",
      "\n",
      "        -1.0       1.00      1.00      1.00      1595\n",
      "         2.0       1.00      1.00      1.00       405\n",
      "\n",
      "    accuracy                           1.00      2000\n",
      "   macro avg       1.00      1.00      1.00      2000\n",
      "weighted avg       1.00      1.00      1.00      2000\n",
      "\n"
     ]
    }
   ],
   "source": [
    "# Predict on test data using\n",
    "y_pred = log_reg.predict(x_test)\n",
    "\n",
    "# Display the first few predictions\n",
    "print(y_pred[:5])\n",
    "# Display the first few actual values\n",
    "print('test values')\n",
    "print(y_test[:5])\n",
    "\n",
    "#using confusion matrix\n",
    "print('confusion matrix:\\n')\n",
    "from sklearn.metrics import confusion_matrix\n",
    "print(confusion_matrix(y_test, y_pred))\n",
    "\n",
    "#using classification report\n",
    "print('\\nclassification report:\\n')\n",
    "from sklearn.metrics import classification_report\n",
    "print(classification_report(y_test, y_pred))\n"
   ]
  },
  {
   "cell_type": "markdown",
   "id": "7f1c2902",
   "metadata": {},
   "source": [
    "<h4>Optimize Model Performance</h4>"
   ]
  },
  {
   "cell_type": "code",
   "execution_count": 124,
   "id": "6365d045",
   "metadata": {},
   "outputs": [
    {
     "name": "stdout",
     "output_type": "stream",
     "text": [
      "{'C': 0.1, 'max_iter': 100}\n",
      "0.998375\n",
      "LogisticRegression(C=0.1)\n",
      "y_pred:\n",
      "\n",
      "[-1.  2. -1. -1. -1.]\n",
      "y_test:\n",
      "\n",
      "9394   -1.0\n",
      "898     2.0\n",
      "2398   -1.0\n",
      "5906   -1.0\n",
      "2343   -1.0\n",
      "Name: Exited, dtype: float64\n",
      "confusion matrix:\n",
      "\n",
      "(8000, 11) (12734, 11)\n"
     ]
    }
   ],
   "source": [
    "#gridsearchcv\n",
    "from sklearn.model_selection import GridSearchCV\n",
    "\n",
    "# Define hyperparameters\n",
    "params = {'C': [0.1, 1, 10, 100], 'max_iter': [100, 200, 300, 400]}\n",
    "# Initialize GridSearchCV\n",
    "grid_search = GridSearchCV(LogisticRegression(), params, cv=5)\n",
    "# Fit the model\n",
    "grid_search.fit(x_train, y_train)\n",
    "\n",
    "# Display the best hyperparameters\n",
    "print(grid_search.best_params_)\n",
    "# Display the best score\n",
    "print(grid_search.best_score_)\n",
    "# Display the best estimator\n",
    "print(grid_search.best_estimator_)\n",
    "# Predict on test data using the best model\n",
    "y_pred = grid_search.best_estimator_.predict(x_test)\n",
    "# Display the first few predictions\n",
    "print('y_pred:\\n')\n",
    "print(y_pred[:5])\n",
    "# Display the first few actual values\n",
    "print('y_test:\\n')\n",
    "print(y_test[:5])\n",
    "\n",
    "# print(x_test.shape, y_test.shape)\n",
    "print('confusion matrix:\\n')\n",
    "#balance the dataset using SMOTE\n",
    "from imblearn.over_sampling import SMOTE\n",
    "\n",
    "# Initialize SMOTE\n",
    "smote = SMOTE(random_state=0)\n",
    "\n",
    "# Fit and apply SMOTE on the training data only\n",
    "x_train_smote, y_train_smote = smote.fit_resample(x_train, y_train)\n",
    "\n",
    "# Display the shape of the training data before and after applying SMOTE\n",
    "print(x_train.shape, x_train_smote.shape)\n",
    "\n"
   ]
  },
  {
   "cell_type": "markdown",
   "id": "72942f4c",
   "metadata": {},
   "source": [
    "<h4>Make Predictions</h4>"
   ]
  },
  {
   "cell_type": "code",
   "execution_count": 125,
   "id": "300e1562",
   "metadata": {},
   "outputs": [
    {
     "name": "stdout",
     "output_type": "stream",
     "text": [
      "y_pred:\n",
      "\n",
      "[-1.  2. -1. -1. -1.]\n",
      "y_test:\n",
      "\n",
      "9394   -1.0\n",
      "898     2.0\n",
      "2398   -1.0\n",
      "5906   -1.0\n",
      "2343   -1.0\n",
      "Name: Exited, dtype: float64\n"
     ]
    }
   ],
   "source": [
    "#make predictions\n",
    "log_reg.fit(x_train_smote, y_train_smote)\n",
    "y_pred = log_reg.predict(x_test)\n",
    "\n",
    "# Display the first few predictions\n",
    "print('y_pred:\\n')\n",
    "print(y_pred[:5])\n",
    "# Display the first few actual values\n",
    "print('y_test:\\n')\n",
    "print(y_test[:5])\n",
    "\n"
   ]
  },
  {
   "cell_type": "code",
   "execution_count": 126,
   "id": "0fd5853f",
   "metadata": {},
   "outputs": [
    {
     "data": {
      "image/png": "[encoded data removed]",
      "text/plain": [
       "<Figure size 800x600 with 1 Axes>"
      ]
     },
     "metadata": {},
     "output_type": "display_data"
    }
   ],
   "source": [
    "#show in the graph\n",
    "\n",
    "import matplotlib.pyplot as plt\n",
    "import seaborn as sns\n",
    "\n",
    "# Count the number of observations in each class\n",
    "class_count = y_train_smote.value_counts()\n",
    "\n",
    "# Plot the class distribution\n",
    "plt.figure(figsize=(8, 6))\n",
    "sns.barplot(x=class_count.index, y=class_count.values)\n",
    "plt.title('Class Distribution')\n",
    "plt.ylabel('Number of Observations')\n",
    "plt.xlabel('Class')\n",
    "plt.show()"
   ]
  },
  {
   "cell_type": "code",
   "execution_count": 127,
   "id": "6db82b18-4770-4b95-9587-5f49e77f4f87",
   "metadata": {},
   "outputs": [
    {
     "data": {
      "image/png": "[encoded data removed]",
      "text/plain": [
       "<Figure size 800x600 with 1 Axes>"
      ]
     },
     "metadata": {},
     "output_type": "display_data"
    }
   ],
   "source": [
    "#graph of actual vs predicted data with different color \n",
    "plt.figure(figsize=(8, 6))\n",
    "plt.scatter(y_test.index, y_test, color='blue', label='Actual')\n",
    "plt.scatter(y_test.index, y_pred, color='red', label='Predicted')\n",
    "plt.title('Actual vs Predicted')\n",
    "plt.ylabel('Exited')\n",
    "plt.xlabel('Index')\n",
    "plt.legend()\n",
    "plt.show()\n"
   ]
  },
  {
   "cell_type": "markdown",
   "id": "ad1645d8",
   "metadata": {},
   "source": [
    "<h4>Features that will affect in Churn</h4>"
   ]
  },
  {
   "cell_type": "code",
   "execution_count": 128,
   "id": "6e774905",
   "metadata": {},
   "outputs": [
    {
     "name": "stdout",
     "output_type": "stream",
     "text": [
      "               Feature  Importance\n",
      "8             Complain    5.512530\n",
      "1                  Age    0.986040\n",
      "3              Balance    0.189880\n",
      "0          CreditScore    0.062588\n",
      "5            HasCrCard    0.037303\n",
      "7      EstimatedSalary   -0.038411\n",
      "4        NumOfProducts   -0.194346\n",
      "2               Tenure   -0.269966\n",
      "9   Satisfaction Score   -0.343316\n",
      "10        Point Earned   -0.569622\n",
      "6       IsActiveMember   -0.792096\n"
     ]
    },
    {
     "data": {
      "image/png": "[encoded data removed]",
      "text/plain": [
       "<Figure size 800x600 with 1 Axes>"
      ]
     },
     "metadata": {},
     "output_type": "display_data"
    }
   ],
   "source": [
    "#display the factor that affects the customer churn\n",
    "# Get the feature importance\n",
    "feature_importance = log_reg.coef_[0]\n",
    "\n",
    "# Create a DataFrame of the feature importance\n",
    "feature_importance_df = pd.DataFrame({\n",
    "    'Feature': X.columns,\n",
    "    'Importance': feature_importance\n",
    "})\n",
    "\n",
    "# Sort the values based on the importance\n",
    "feature_importance_df = feature_importance_df.sort_values('Importance', ascending=False)\n",
    "\n",
    "# Display the feature importance\n",
    "print(feature_importance_df)\n",
    "\n",
    "# Plot the feature importance\n",
    "plt.figure(figsize=(8, 6))\n",
    "sns.barplot(x='Importance', y='Feature', data=feature_importance_df)\n",
    "plt.title('Feature Importance')\n",
    "plt.show()"
   ]
  },
  {
   "cell_type": "code",
   "execution_count": 129,
   "id": "3abed345",
   "metadata": {},
   "outputs": [
    {
     "name": "stdout",
     "output_type": "stream",
     "text": [
      "[2.]\n",
      "Customer will not churn\n",
      "               Feature  Importance\n",
      "8             Complain    5.512530\n",
      "1                  Age    0.986040\n",
      "3              Balance    0.189880\n",
      "0          CreditScore    0.062588\n",
      "5            HasCrCard    0.037303\n",
      "7      EstimatedSalary   -0.038411\n",
      "4        NumOfProducts   -0.194346\n",
      "2               Tenure   -0.269966\n",
      "9   Satisfaction Score   -0.343316\n",
      "10        Point Earned   -0.569622\n",
      "6       IsActiveMember   -0.792096\n"
     ]
    }
   ],
   "source": [
    "#calculating the data using the confusion matrix\n",
    "\n",
    "#creating new customer data\n",
    "new_customer = pd.DataFrame({\n",
    "    'CreditScore': [500],\n",
    "    'Age': [20],\n",
    "    'Tenure': [3],\n",
    "    'Balance': [60000],\n",
    "    'NumOfProducts': [2],\n",
    "    'HasCrCard': [1],\n",
    "    'IsActiveMember': [1],\n",
    "    'EstimatedSalary': [50000],\n",
    "    'Exited': [0],\n",
    "    'Complain': [500],\n",
    "    'Satisfaction Score': [5],\n",
    "    'Point Earned': [3],\n",
    "})\n",
    "\n",
    "# Scale the new customer data\n",
    "\n",
    "new_customer[num_cols] = scaler.transform(new_customer[num_cols])\n",
    "\n",
    "# Predict the new customer data\n",
    "new_customer_pred = log_reg.predict(new_customer.drop('Exited', axis=1))\n",
    "\n",
    "# Display the prediction\n",
    "print(new_customer_pred)\n",
    "\n",
    "#Dispay the customer will churn or not\n",
    "if new_customer_pred == 1:\n",
    "    print('Customer will churn')\n",
    "else:\n",
    "    print('Customer will not churn')\n",
    "\n",
    "\n",
    "#diispay the feature that affects this particular customer\n",
    "\n",
    "# Get the feature importance\n",
    "feature_importance = log_reg.coef_[0]\n",
    "\n",
    "# Create a DataFrame of the feature importance\n",
    "feature_importance_df = pd.DataFrame({\n",
    "    'Feature': new_customer.drop('Exited', axis=1).columns,\n",
    "    'Importance': feature_importance\n",
    "})\n",
    "\n",
    "# Sort the values based on the importance\n",
    "feature_importance_df = feature_importance_df.sort_values('Importance', ascending=False)\n",
    "\n",
    "# Display the feature importance\n",
    "\n",
    "print(feature_importance_df)\n",
    "\n"
   ]
  }
 ],
 "metadata": {
  "kernelspec": {
   "display_name": "Python 3 (ipykernel)",
   "language": "python",
   "name": "python3"
  },
  "language_info": {
   "codemirror_mode": {
    "name": "ipython",
    "version": 3
   },
   "file_extension": ".py",
   "mimetype": "text/x-python",
   "name": "python",
   "nbconvert_exporter": "python",
   "pygments_lexer": "ipython3",
   "version": "3.11.2"
  }
 },
 "nbformat": 4,
 "nbformat_minor": 5
}
