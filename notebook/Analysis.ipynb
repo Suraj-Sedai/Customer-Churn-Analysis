{
 "cells": [
  {
   "cell_type": "markdown",
   "id": "b993fc8f-1544-47a2-bcdf-7b55fe0fbff5",
   "metadata": {},
   "source": [
    "<h1>Bank Customer Churn Analysis</h1>"
   ]
  },
  {
   "cell_type": "markdown",
   "id": "e7e3b426-9495-4079-8ca6-881bade6ec2b",
   "metadata": {},
   "source": [
    "<h4>Importing the dataset</h4>"
   ]
  },
  {
   "cell_type": "code",
   "execution_count": 79,
   "id": "fbe60aba-5e6f-42a3-a7db-d6952d2a1018",
   "metadata": {},
   "outputs": [
    {
     "data": {
      "text/html": [
       "<div>\n",
       "<style scoped>\n",
       "    .dataframe tbody tr th:only-of-type {\n",
       "        vertical-align: middle;\n",
       "    }\n",
       "\n",
       "    .dataframe tbody tr th {\n",
       "        vertical-align: top;\n",
       "    }\n",
       "\n",
       "    .dataframe thead th {\n",
       "        text-align: right;\n",
       "    }\n",
       "</style>\n",
       "<table border=\"1\" class=\"dataframe\">\n",
       "  <thead>\n",
       "    <tr style=\"text-align: right;\">\n",
       "      <th></th>\n",
       "      <th>RowNumber</th>\n",
       "      <th>CustomerId</th>\n",
       "      <th>Surname</th>\n",
       "      <th>CreditScore</th>\n",
       "      <th>Geography</th>\n",
       "      <th>Gender</th>\n",
       "      <th>Age</th>\n",
       "      <th>Tenure</th>\n",
       "      <th>Balance</th>\n",
       "      <th>NumOfProducts</th>\n",
       "      <th>HasCrCard</th>\n",
       "      <th>IsActiveMember</th>\n",
       "      <th>EstimatedSalary</th>\n",
       "      <th>Exited</th>\n",
       "      <th>Complain</th>\n",
       "      <th>Satisfaction Score</th>\n",
       "      <th>Card Type</th>\n",
       "      <th>Point Earned</th>\n",
       "    </tr>\n",
       "  </thead>\n",
       "  <tbody>\n",
       "    <tr>\n",
       "      <th>0</th>\n",
       "      <td>1</td>\n",
       "      <td>15634602</td>\n",
       "      <td>Hargrave</td>\n",
       "      <td>619</td>\n",
       "      <td>France</td>\n",
       "      <td>Female</td>\n",
       "      <td>42</td>\n",
       "      <td>2</td>\n",
       "      <td>0.00</td>\n",
       "      <td>1</td>\n",
       "      <td>1</td>\n",
       "      <td>1</td>\n",
       "      <td>101348.88</td>\n",
       "      <td>1</td>\n",
       "      <td>1</td>\n",
       "      <td>2</td>\n",
       "      <td>DIAMOND</td>\n",
       "      <td>464</td>\n",
       "    </tr>\n",
       "    <tr>\n",
       "      <th>1</th>\n",
       "      <td>2</td>\n",
       "      <td>15647311</td>\n",
       "      <td>Hill</td>\n",
       "      <td>608</td>\n",
       "      <td>Spain</td>\n",
       "      <td>Female</td>\n",
       "      <td>41</td>\n",
       "      <td>1</td>\n",
       "      <td>83807.86</td>\n",
       "      <td>1</td>\n",
       "      <td>0</td>\n",
       "      <td>1</td>\n",
       "      <td>112542.58</td>\n",
       "      <td>0</td>\n",
       "      <td>1</td>\n",
       "      <td>3</td>\n",
       "      <td>DIAMOND</td>\n",
       "      <td>456</td>\n",
       "    </tr>\n",
       "    <tr>\n",
       "      <th>2</th>\n",
       "      <td>3</td>\n",
       "      <td>15619304</td>\n",
       "      <td>Onio</td>\n",
       "      <td>502</td>\n",
       "      <td>France</td>\n",
       "      <td>Female</td>\n",
       "      <td>42</td>\n",
       "      <td>8</td>\n",
       "      <td>159660.80</td>\n",
       "      <td>3</td>\n",
       "      <td>1</td>\n",
       "      <td>0</td>\n",
       "      <td>113931.57</td>\n",
       "      <td>1</td>\n",
       "      <td>1</td>\n",
       "      <td>3</td>\n",
       "      <td>DIAMOND</td>\n",
       "      <td>377</td>\n",
       "    </tr>\n",
       "    <tr>\n",
       "      <th>3</th>\n",
       "      <td>4</td>\n",
       "      <td>15701354</td>\n",
       "      <td>Boni</td>\n",
       "      <td>699</td>\n",
       "      <td>France</td>\n",
       "      <td>Female</td>\n",
       "      <td>39</td>\n",
       "      <td>1</td>\n",
       "      <td>0.00</td>\n",
       "      <td>2</td>\n",
       "      <td>0</td>\n",
       "      <td>0</td>\n",
       "      <td>93826.63</td>\n",
       "      <td>0</td>\n",
       "      <td>0</td>\n",
       "      <td>5</td>\n",
       "      <td>GOLD</td>\n",
       "      <td>350</td>\n",
       "    </tr>\n",
       "    <tr>\n",
       "      <th>4</th>\n",
       "      <td>5</td>\n",
       "      <td>15737888</td>\n",
       "      <td>Mitchell</td>\n",
       "      <td>850</td>\n",
       "      <td>Spain</td>\n",
       "      <td>Female</td>\n",
       "      <td>43</td>\n",
       "      <td>2</td>\n",
       "      <td>125510.82</td>\n",
       "      <td>1</td>\n",
       "      <td>1</td>\n",
       "      <td>1</td>\n",
       "      <td>79084.10</td>\n",
       "      <td>0</td>\n",
       "      <td>0</td>\n",
       "      <td>5</td>\n",
       "      <td>GOLD</td>\n",
       "      <td>425</td>\n",
       "    </tr>\n",
       "  </tbody>\n",
       "</table>\n",
       "</div>"
      ],
      "text/plain": [
       "   RowNumber  CustomerId   Surname  CreditScore Geography  Gender  Age  \\\n",
       "0          1    15634602  Hargrave          619    France  Female   42   \n",
       "1          2    15647311      Hill          608     Spain  Female   41   \n",
       "2          3    15619304      Onio          502    France  Female   42   \n",
       "3          4    15701354      Boni          699    France  Female   39   \n",
       "4          5    15737888  Mitchell          850     Spain  Female   43   \n",
       "\n",
       "   Tenure    Balance  NumOfProducts  HasCrCard  IsActiveMember  \\\n",
       "0       2       0.00              1          1               1   \n",
       "1       1   83807.86              1          0               1   \n",
       "2       8  159660.80              3          1               0   \n",
       "3       1       0.00              2          0               0   \n",
       "4       2  125510.82              1          1               1   \n",
       "\n",
       "   EstimatedSalary  Exited  Complain  Satisfaction Score Card Type  \\\n",
       "0        101348.88       1         1                   2   DIAMOND   \n",
       "1        112542.58       0         1                   3   DIAMOND   \n",
       "2        113931.57       1         1                   3   DIAMOND   \n",
       "3         93826.63       0         0                   5      GOLD   \n",
       "4         79084.10       0         0                   5      GOLD   \n",
       "\n",
       "   Point Earned  \n",
       "0           464  \n",
       "1           456  \n",
       "2           377  \n",
       "3           350  \n",
       "4           425  "
      ]
     },
     "execution_count": 79,
     "metadata": {},
     "output_type": "execute_result"
    }
   ],
   "source": [
    "import pandas as pd\n",
    "import numpy as np\n",
    "\n",
    "df = pd.read_csv('../data/Customer-Churn-Records.csv')\n",
    "\n",
    "df.head()"
   ]
  },
  {
   "cell_type": "markdown",
   "id": "be56f6a8",
   "metadata": {},
   "source": [
    "<h6>Checking for missing values & preparing dataset</h6>"
   ]
  },
  {
   "cell_type": "code",
   "execution_count": 80,
   "id": "2c2bf97d",
   "metadata": {},
   "outputs": [
    {
     "data": {
      "text/plain": [
       "RowNumber             0\n",
       "CustomerId            0\n",
       "Surname               0\n",
       "CreditScore           0\n",
       "Geography             0\n",
       "Gender                0\n",
       "Age                   0\n",
       "Tenure                0\n",
       "Balance               0\n",
       "NumOfProducts         0\n",
       "HasCrCard             0\n",
       "IsActiveMember        0\n",
       "EstimatedSalary       0\n",
       "Exited                0\n",
       "Complain              0\n",
       "Satisfaction Score    0\n",
       "Card Type             0\n",
       "Point Earned          0\n",
       "dtype: int64"
      ]
     },
     "execution_count": 80,
     "metadata": {},
     "output_type": "execute_result"
    }
   ],
   "source": [
    "df.isnull().sum()   # check for missing values\n",
    "\n",
    "#df.describe()   # summary statistics"
   ]
  },
  {
   "cell_type": "code",
   "execution_count": 81,
   "id": "76063a85",
   "metadata": {},
   "outputs": [],
   "source": [
    "df = df.dropna()   # drop missing values\n",
    "\n",
    "##or fill missing values with mean\n",
    "#df = df.fillna(df.mean())"
   ]
  },
  {
   "cell_type": "markdown",
   "id": "b8aa0a2a",
   "metadata": {},
   "source": [
    "<h5>Revoming unnecessary columns</h5>"
   ]
  },
  {
   "cell_type": "code",
   "execution_count": 82,
   "id": "764636fa",
   "metadata": {},
   "outputs": [
    {
     "name": "stdout",
     "output_type": "stream",
     "text": [
      "   CreditScore Geography  Gender       Age    Tenure   Balance  NumOfProducts  \\\n",
      "0    -0.326221    France  Female  0.293517 -1.041760 -1.225848      -0.911583   \n",
      "1    -0.440036     Spain  Female  0.198164 -1.387538  0.117350      -0.911583   \n",
      "2    -1.536794    France  Female  0.293517  1.032908  1.333053       2.527057   \n",
      "3     0.501521    France  Female  0.007457 -1.387538 -1.225848       0.807737   \n",
      "4     2.063884     Spain  Female  0.388871 -1.041760  0.785728      -0.911583   \n",
      "\n",
      "   HasCrCard  IsActiveMember  EstimatedSalary    Exited  Complain  \\\n",
      "0   0.646092        0.970243         0.021886  1.976555  1.972908   \n",
      "1  -1.547768        0.970243         0.216534 -0.505931  1.972908   \n",
      "2   0.646092       -1.030670         0.240687  1.976555  1.972908   \n",
      "3  -1.547768       -1.030670        -0.108918 -0.505931 -0.506866   \n",
      "4   0.646092        0.970243        -0.365276 -0.505931 -0.506866   \n",
      "\n",
      "   Satisfaction Score Card Type  Point Earned  \n",
      "0           -0.721130   DIAMOND     -0.630839  \n",
      "1           -0.009816   DIAMOND     -0.666251  \n",
      "2           -0.009816   DIAMOND     -1.015942  \n",
      "3            1.412812      GOLD     -1.135457  \n",
      "4            1.412812      GOLD     -0.803472  \n",
      "   CreditScore       Age    Tenure   Balance  NumOfProducts  HasCrCard  \\\n",
      "0    -0.326221  0.293517 -1.041760 -1.225848      -0.911583   0.646092   \n",
      "1    -0.440036  0.198164 -1.387538  0.117350      -0.911583  -1.547768   \n",
      "2    -1.536794  0.293517  1.032908  1.333053       2.527057   0.646092   \n",
      "3     0.501521  0.007457 -1.387538 -1.225848       0.807737  -1.547768   \n",
      "4     2.063884  0.388871 -1.041760  0.785728      -0.911583   0.646092   \n",
      "\n",
      "   IsActiveMember  EstimatedSalary    Exited  Complain  Satisfaction Score  \\\n",
      "0        0.970243         0.021886  1.976555  1.972908           -0.721130   \n",
      "1        0.970243         0.216534 -0.505931  1.972908           -0.009816   \n",
      "2       -1.030670         0.240687  1.976555  1.972908           -0.009816   \n",
      "3       -1.030670        -0.108918 -0.505931 -0.506866            1.412812   \n",
      "4        0.970243        -0.365276 -0.505931 -0.506866            1.412812   \n",
      "\n",
      "   Point Earned  \n",
      "0     -0.630839  \n",
      "1     -0.666251  \n",
      "2     -1.015942  \n",
      "3     -1.135457  \n",
      "4     -0.803472  \n"
     ]
    }
   ],
   "source": [
    "from sklearn.preprocessing import StandardScaler\n",
    "\n",
    "# Load dataset (assuming df is already loaded)\n",
    "df = df.drop(['RowNumber', 'CustomerId', 'Surname'], axis=1)  # Drop irrelevant columns\n",
    "\n",
    "# Select numerical columns\n",
    "num_cols = df.select_dtypes(include=['float64', 'int64']).columns   \n",
    "\n",
    "# Initialize StandardScaler\n",
    "scaler = StandardScaler()\n",
    "\n",
    "# Fit and transform only numerical columns\n",
    "df[num_cols] = scaler.fit_transform(df[num_cols])\n",
    "\n",
    "# Display the first few rows after scaling\n",
    "print(df.head())\n",
    "\n",
    "#displaying only numerical columns\n",
    "print(df[num_cols].head())"
   ]
  },
  {
   "cell_type": "markdown",
   "id": "443d5820",
   "metadata": {},
   "source": [
    "<h4>Split the dataset</h4>"
   ]
  },
  {
   "cell_type": "code",
   "execution_count": 83,
   "id": "b3cce2cc",
   "metadata": {},
   "outputs": [
    {
     "name": "stdout",
     "output_type": "stream",
     "text": [
      "(8000, 11) (2000, 11) (8000,) (2000,)\n"
     ]
    }
   ],
   "source": [
    "#split the dataset\n",
    "\n",
    "from sklearn.model_selection import train_test_split\n",
    "\n",
    "# Define Features (X) and Target (y)\n",
    "X = df[num_cols].drop('Exited', axis=1)   #drop the target column exited\n",
    "y = df[num_cols]['Exited']        #target column\n",
    "\n",
    "# Split the dataset into training and testing sets (80% training, 20% testing) \n",
    "x_train, x_test, y_train, y_test = train_test_split(X,y, test_size=0.2, random_state=0) \n",
    "y_test = np.round(y_test)  # Round values to 0/1 for classification\n",
    "y_train = np.round(y_train)  # Convert to 0/1 if binary classification\n",
    "\n",
    "print(x_train.shape, x_test.shape, y_train.shape, y_test.shape)\n"
   ]
  },
  {
   "cell_type": "markdown",
   "id": "07c689f6",
   "metadata": {},
   "source": [
    "<h4>Train Classification Using Different Models</h4>"
   ]
  },
  {
   "cell_type": "code",
   "execution_count": 84,
   "id": "dede3ff4",
   "metadata": {},
   "outputs": [
    {
     "name": "stdout",
     "output_type": "stream",
     "text": [
      "Accuracy: 0.9995\n"
     ]
    }
   ],
   "source": [
    "#logistic regression\n",
    "from sklearn.linear_model import LogisticRegression\n",
    "\n",
    "#using logistic regression\n",
    "log_reg = LogisticRegression()\n",
    "\n",
    "# Fit the model\n",
    "log_reg.fit(x_train, y_train)\n",
    "\n",
    "y_pred = log_reg.predict(x_test)\n",
    "\n",
    "# Accuracy\n",
    "accuracy = log_reg.score(x_test, y_test)\n",
    "print(f'Accuracy: {accuracy*100:.2f}%')\n",
    "\n"
   ]
  }
 ],
 "metadata": {
  "kernelspec": {
   "display_name": "Python 3",
   "language": "python",
   "name": "python3"
  },
  "language_info": {
   "codemirror_mode": {
    "name": "ipython",
    "version": 3
   },
   "file_extension": ".py",
   "mimetype": "text/x-python",
   "name": "python",
   "nbconvert_exporter": "python",
   "pygments_lexer": "ipython3",
   "version": "3.11.2"
  }
 },
 "nbformat": 4,
 "nbformat_minor": 5
}
