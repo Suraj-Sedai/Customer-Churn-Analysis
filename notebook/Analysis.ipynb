{
 "cells": [
  {
   "cell_type": "markdown",
   "id": "b993fc8f-1544-47a2-bcdf-7b55fe0fbff5",
   "metadata": {},
   "source": [
    "<h1>Bank Customer Churn Analysis</h1>"
   ]
  },
  {
   "cell_type": "markdown",
   "id": "e7e3b426-9495-4079-8ca6-881bade6ec2b",
   "metadata": {},
   "source": [
    "<h4>Importing the dataset</h4>"
   ]
  },
  {
   "cell_type": "code",
   "execution_count": null,
   "id": "fbe60aba-5e6f-42a3-a7db-d6952d2a1018",
   "metadata": {},
   "outputs": [],
   "source": [
    "import pandas as pd\n",
    "\n",
    "df = pd.read_csv('../data/Customer-Churn-Records.csv')\n",
    "\n",
    "df.head()"
   ]
  },
  {
   "cell_type": "markdown",
   "id": "be56f6a8",
   "metadata": {},
   "source": [
    "<h6>Checking for missing values & preparing dataset</h6>"
   ]
  },
  {
   "cell_type": "code",
   "execution_count": null,
   "id": "2c2bf97d",
   "metadata": {},
   "outputs": [],
   "source": [
    "df.isnull().sum()   # check for missing values\n",
    "\n",
    "#df.describe()   # summary statistics"
   ]
  },
  {
   "cell_type": "code",
   "execution_count": 43,
   "id": "76063a85",
   "metadata": {},
   "outputs": [],
   "source": [
    "df = df.dropna()   # drop missing values\n",
    "\n",
    "##or fill missing values with mean\n",
    "#df = df.fillna(df.mean())"
   ]
  },
  {
   "cell_type": "markdown",
   "id": "b8aa0a2a",
   "metadata": {},
   "source": [
    "<h5>Revoming unnecessary columns</h5>"
   ]
  },
  {
   "cell_type": "code",
   "execution_count": null,
   "id": "764636fa",
   "metadata": {},
   "outputs": [],
   "source": [
    "from sklearn.preprocessing import StandardScaler\n",
    "\n",
    "# Load dataset (assuming df is already loaded)\n",
    "df = df.drop(['RowNumber', 'CustomerId', 'Surname'], axis=1)  # Drop irrelevant columns\n",
    "\n",
    "# Select numerical columns\n",
    "num_cols = df.select_dtypes(include=['float64', 'int64']).columns   \n",
    "\n",
    "# Initialize StandardScaler\n",
    "scaler = StandardScaler()\n",
    "\n",
    "# Fit and transform only numerical columns\n",
    "df[num_cols] = scaler.fit_transform(df[num_cols])\n",
    "\n",
    "# Display the first few rows after scaling\n",
    "print(df.head())\n"
   ]
  },
  {
   "cell_type": "markdown",
   "id": "443d5820",
   "metadata": {},
   "source": [
    "<h4>Split the dataset</h4>"
   ]
  },
  {
   "cell_type": "code",
   "execution_count": null,
   "id": "b3cce2cc",
   "metadata": {},
   "outputs": [],
   "source": [
    "#split the dataset\n",
    "\n",
    "from sklearn.model_selection import train_test_split\n",
    "\n",
    "# Define Features (X) and Target (y)\n",
    "X = df.drop('Exited', axis=1)   #drop the target column exited\n",
    "y = df['Exited']        #target column\n",
    "\n",
    "# Split the dataset into training and testing sets (80% training, 20% testing) \n",
    "x_train, x_test, y_train, y_test = train_test_split(X,y, test_size=0.2, random_state=0)   \n",
    "\n",
    "print(x_train.shape, x_test.shape, y_train.shape, y_test.shape)\n"
   ]
  },
  {
   "cell_type": "markdown",
   "id": "07c689f6",
   "metadata": {},
   "source": [
    "<h4>Train Classification Using Different Models</h4>"
   ]
  },
  {
   "cell_type": "code",
   "execution_count": null,
   "id": "dede3ff4",
   "metadata": {},
   "outputs": [],
   "source": [
    "#logistic regression\n",
    "from sklearn.linear_model import LogisticRegression\n",
    "#desicion tree\n",
    "from sklearn.tree import DecisionTreeClassifier \n",
    "#random forest\n",
    "from sklearn.ensemble import RandomForestClassifier\n",
    "#support vector machine\n",
    "from sklearn.svm import SVC\n",
    "\n",
    "#Train models using model.fit(X_train, y_train)\n",
    "\n",
    "# Initialize the models\n",
    "log_reg = LogisticRegression()\n",
    "dec_tree = DecisionTreeClassifier()\n",
    "ran_for = RandomForestClassifier()\n",
    "svm = SVC()\n",
    "\n",
    "# Train the models\n",
    "log_reg.fit(x_train, y_train)\n",
    "dec_tree.fit(x_train, y_train)\n",
    "ran_for.fit(x_train, y_train)\n",
    "svm.fit(x_train, y_train)\n",
    "\n",
    "# Predict the target on the training and testing sets\n",
    "y_train_pred_log_reg = log_reg.predict(x_train)\n",
    "y_test_pred_log_reg = log_reg.predict(x_test)\n",
    "\n",
    "y_train_pred_dec_tree = dec_tree.predict(x_train)\n",
    "y_test_pred_dec_tree = dec_tree.predict(x_test)\n",
    "\n",
    "y_train_pred_ran_for = ran_for.predict(x_train)\n",
    "y_test_pred_ran_for = ran_for.predict(x_test)\n",
    "\n",
    "y_train_pred_svm = svm.predict(x_train)\n",
    "y_test_pred_svm = svm.predict(x_test)\n",
    "\n",
    "# Evaluate the models using accuracy_score\n",
    "from sklearn.metrics import accuracy_score\n",
    "\n",
    "# Calculate the accuracy of the models\n",
    "accuracy_log_reg_train = accuracy_score(y_train, y_train_pred_log_reg)\n",
    "accuracy_log_reg_test = accuracy_score(y_test, y_test_pred_log_reg)\n",
    "\n",
    "accuracy_dec_tree_train = accuracy_score(y_train, y_train_pred_dec_tree)\n",
    "accuracy_dec_tree_test = accuracy_score(y_test, y_test_pred_dec_tree)\n",
    "\n",
    "accuracy_ran_for_train = accuracy_score(y_train, y_train_pred_ran_for)\n",
    "accuracy_ran_for_test = accuracy_score(y_test, y_test_pred_ran_for)\n",
    "\n",
    "accuracy_svm_train = accuracy_score(y_train, y_train_pred_svm)\n",
    "accuracy_svm_test = accuracy_score(y_test, y_test_pred_svm)\n",
    "\n",
    "# Print the accuracies\n",
    "print('Logistic Regression')\n",
    "print('Training accuracy: ', accuracy_log_reg_train)\n",
    "print('Testing accuracy: ', accuracy_log_reg_test)\n",
    "print('\\n')\n",
    "\n",
    "print('Decision Tree')\n",
    "print('Training accuracy: ', accuracy_dec_tree_train)\n",
    "print('Testing accuracy: ', accuracy_dec_tree_test)\n",
    "print('\\n')\n",
    "\n",
    "print('Random Forest')\n",
    "print('Training accuracy: ', accuracy_ran_for_train)\n",
    "print('Testing accuracy: ', accuracy_ran_for_test)\n",
    "print('\\n')\n",
    "\n",
    "print('Support Vector Machine')\n",
    "print('Training accuracy: ', accuracy_svm_train)\n",
    "print('Testing accuracy: ', accuracy_svm_test)\n",
    "print('\\n')\n",
    "\n"
   ]
  }
 ],
 "metadata": {
  "kernelspec": {
   "display_name": "Python 3",
   "language": "python",
   "name": "python3"
  },
  "language_info": {
   "codemirror_mode": {
    "name": "ipython",
    "version": 3
   },
   "file_extension": ".py",
   "mimetype": "text/x-python",
   "name": "python",
   "nbconvert_exporter": "python",
   "pygments_lexer": "ipython3",
   "version": "3.13.1"
  }
 },
 "nbformat": 4,
 "nbformat_minor": 5
}
